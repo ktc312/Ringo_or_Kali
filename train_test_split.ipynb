{
 "cells": [
  {
   "cell_type": "code",
   "execution_count": 1,
   "metadata": {},
   "outputs": [],
   "source": [
    "import os\n",
    "import random\n",
    "\n",
    "kali_files = [f for f in os.listdir('data/kali') if f[-4:]=='.jpg']\n",
    "ringo_files = [f for f in os.listdir('data/ringo') if f[-4:]=='.jpg']"
   ]
  },
  {
   "cell_type": "code",
   "execution_count": 2,
   "metadata": {},
   "outputs": [],
   "source": [
    "k = len(kali_files)"
   ]
  },
  {
   "cell_type": "code",
   "execution_count": 3,
   "metadata": {},
   "outputs": [],
   "source": [
    "r = len(ringo_files)"
   ]
  },
  {
   "cell_type": "code",
   "execution_count": 4,
   "metadata": {},
   "outputs": [],
   "source": [
    "for i in kali_files:\n",
    "    if random.randint(1,1000000) <= (r/k)*1000000:\n",
    "        os.rename(\"data/kali/{}\".format(i), \"data/kali_p/{}\".format(i))"
   ]
  },
  {
   "cell_type": "code",
   "execution_count": 5,
   "metadata": {},
   "outputs": [],
   "source": [
    "kali_files = [f for f in os.listdir('data/kali_p') if f[-4:]=='.jpg']"
   ]
  },
  {
   "cell_type": "code",
   "execution_count": 10,
   "metadata": {},
   "outputs": [],
   "source": [
    "for i in kali_files:\n",
    "    c = random.randint(1,100)\n",
    "    if c <= 80:\n",
    "        os.rename(\"data/kali_p/{}\".format(i), \"data/train/kali/{}\".format(i))\n",
    "    elif c > 80 and c <= 95:\n",
    "        os.rename(\"data/kali_p/{}\".format(i), \"data/valid/kali/{}\".format(i))\n",
    "    else:\n",
    "        os.rename(\"data/kali_p/{}\".format(i), \"data/test/kali/{}\".format(i))"
   ]
  },
  {
   "cell_type": "code",
   "execution_count": 11,
   "metadata": {},
   "outputs": [],
   "source": [
    "for i in ringo_files:\n",
    "    c = random.randint(1,100)\n",
    "    if c <= 80:\n",
    "        os.rename(\"data/ringo/{}\".format(i), \"data/train/ringo/{}\".format(i))\n",
    "    elif c > 80 and c <= 95:\n",
    "        os.rename(\"data/ringo/{}\".format(i), \"data/valid/ringo/{}\".format(i))\n",
    "    else:\n",
    "        os.rename(\"data/ringo/{}\".format(i), \"data/test/ringo/{}\".format(i))"
   ]
  },
  {
   "cell_type": "code",
   "execution_count": null,
   "metadata": {},
   "outputs": [],
   "source": []
  }
 ],
 "metadata": {
  "kernelspec": {
   "display_name": "Python 3",
   "language": "python",
   "name": "python3"
  },
  "language_info": {
   "codemirror_mode": {
    "name": "ipython",
    "version": 3
   },
   "file_extension": ".py",
   "mimetype": "text/x-python",
   "name": "python",
   "nbconvert_exporter": "python",
   "pygments_lexer": "ipython3",
   "version": "3.6.4"
  }
 },
 "nbformat": 4,
 "nbformat_minor": 2
}
